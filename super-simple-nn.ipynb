{
 "cells": [
  {
   "cell_type": "code",
   "execution_count": 17,
   "metadata": {},
   "outputs": [],
   "source": [
    "import numpy as np\n",
    "from numpy.testing import assert_almost_equal"
   ]
  },
  {
   "cell_type": "code",
   "execution_count": 41,
   "metadata": {},
   "outputs": [],
   "source": [
    "def sigmoid(x):\n",
    "    return 1 / (1 + np.power(np.e, -x))\n",
    "\n",
    "assert sigmoid(0) == 0.5\n",
    "assert_almost_equal(sigmoid(-100), 0)\n",
    "assert_almost_equal(sigmoid(100), 1)\n",
    "\n",
    "def sigmoid_gradient(x):\n",
    "    return sigmoid(x) * (1 - sigmoid(x))\n",
    "\n",
    "assert_almost_equal(sigmoid_gradient(-100), 0)\n",
    "assert_almost_equal(sigmoid_gradient(100), 0)\n",
    "\n",
    "def forward_prop_nn(w1, b1, w2, b2, x):\n",
    "    z1 = np.dot(w1, x) + b1\n",
    "    a1 = sigmoid(z1)\n",
    "    z2 = np.dot(w2, a1) + b2\n",
    "    a2 = sigmoid(z2)\n",
    "    return a2\n",
    "\n",
    "xnor_w_1 = np.array([\n",
    "    [-20, -20],          # Weights for \"(NOT x[0]) AND (NOT x[1])\" \n",
    "    [ 20,  20],          # Weights for \"x[0] AND x[1]\"\n",
    "]) * 10\n",
    "xnor_b_1 = np.array([\n",
    "    [ 10],               # Bias for \"(NOT x[0]) AND (NOT x[1])\"\n",
    "    [-30],               # Bias for \"x[0] AND x[1]\"\n",
    "]) * 10\n",
    "xnor_w_2 = np.array([\n",
    "    [ 20,  20],          # Weights for \"x[0] OR x[1]\"\n",
    "]) * 10\n",
    "xnor_b_2 = np.array([\n",
    "    [-10],               # Bias for \"x[0] OR x[1]\"\n",
    "]) * 10\n",
    "\n",
    "def xnor_nn(x0, x1):\n",
    "    return forward_prop_nn(xnor_w_1, xnor_b_1, xnor_w_2, xnor_b_2, np.array([[x0], [x1]]))[0][0]\n",
    "\n",
    "assert_almost_equal(xnor_nn(1, 1), 1.0)\n",
    "assert_almost_equal(xnor_nn(0, 0), 1.0)\n",
    "assert_almost_equal(xnor_nn(0, 1), 0)\n",
    "assert_almost_equal(xnor_nn(1, 0), 0)\n"
   ]
  },
  {
   "cell_type": "code",
   "execution_count": null,
   "metadata": {},
   "outputs": [],
   "source": []
  }
 ],
 "metadata": {
  "kernelspec": {
   "display_name": "Python 3",
   "language": "python",
   "name": "python3"
  },
  "language_info": {
   "codemirror_mode": {
    "name": "ipython",
    "version": 3
   },
   "file_extension": ".py",
   "mimetype": "text/x-python",
   "name": "python",
   "nbconvert_exporter": "python",
   "pygments_lexer": "ipython3",
   "version": "3.6.1"
  }
 },
 "nbformat": 4,
 "nbformat_minor": 2
}
