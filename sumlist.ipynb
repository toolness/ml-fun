{
 "cells": [
  {
   "cell_type": "code",
   "execution_count": 36,
   "metadata": {},
   "outputs": [],
   "source": [
    "import numpy as np\n",
    "from keras.models import Sequential\n",
    "from keras.layers import Dense, Activation"
   ]
  },
  {
   "cell_type": "markdown",
   "metadata": {},
   "source": [
    "This is a simple NN that takes as input a vectorized \"list\" of at most 10 pairs of numbers between 0 and 1, and returns a vector indicating which of those pairs sum to at least 1.5.\n",
    "\n",
    "The \"list\" is actually a vector of length 30, and represents a flattened 3x10 vector where the first index is a boolean value that represents whether the list item is \"filled\", the second index is the first number of the pair, and the third index is the second number of the pair.\n",
    "\n",
    "The output is a vector of length 10 that contains booleans indicating which of the input list items sum to at least 1.5."
   ]
  },
  {
   "cell_type": "code",
   "execution_count": 37,
   "metadata": {},
   "outputs": [],
   "source": [
    "MAX_LEN = 10\n",
    "STRIDE = 3\n",
    "SUM_THRESHOLD = 1.5\n",
    "\n",
    "def gen_random_training_pairs(count):\n",
    "    x = np.random.random((MAX_COUNT * STRIDE, count))\n",
    "    y = np.zeros((MAX_LEN, count))\n",
    "    for i in range(MAX_LEN):\n",
    "        x[i * STRIDE] = 0\n",
    "    for i in range(count):\n",
    "        length = np.random.randint(1, MAX_COUNT + 1)\n",
    "        for j in range(length):\n",
    "            index = j * STRIDE\n",
    "            x[index][i] = 1\n",
    "            y[j][i] = x[index + 1][i] + x[index + 2][i] >= SUM_THRESHOLD\n",
    "    return x.T, y.T"
   ]
  },
  {
   "cell_type": "code",
   "execution_count": 43,
   "metadata": {
    "collapsed": true
   },
   "outputs": [],
   "source": [
    "np.random.seed(1)\n",
    "x_train, y_train = gen_random_training_pairs(18000)\n",
    "x_test, y_test = gen_random_training_pairs(2000)"
   ]
  },
  {
   "cell_type": "code",
   "execution_count": 44,
   "metadata": {},
   "outputs": [
    {
     "name": "stdout",
     "output_type": "stream",
     "text": [
      "Epoch 1/10\n",
      "18000/18000 [==============================] - 4s 204us/step - loss: 0.2477 - acc: 0.9175\n",
      "Epoch 2/10\n",
      "18000/18000 [==============================] - 3s 172us/step - loss: 0.1566 - acc: 0.9394\n",
      "Epoch 3/10\n",
      "18000/18000 [==============================] - 3s 172us/step - loss: 0.1097 - acc: 0.9568\n",
      "Epoch 4/10\n",
      "18000/18000 [==============================] - 3s 167us/step - loss: 0.0788 - acc: 0.9715\n",
      "Epoch 5/10\n",
      "18000/18000 [==============================] - 3s 159us/step - loss: 0.0602 - acc: 0.9805\n",
      "Epoch 6/10\n",
      "18000/18000 [==============================] - 3s 168us/step - loss: 0.0493 - acc: 0.9849\n",
      "Epoch 7/10\n",
      "18000/18000 [==============================] - 3s 167us/step - loss: 0.0426 - acc: 0.9870\n",
      "Epoch 8/10\n",
      "18000/18000 [==============================] - 3s 146us/step - loss: 0.0378 - acc: 0.9887\n",
      "Epoch 9/10\n",
      "18000/18000 [==============================] - 3s 172us/step - loss: 0.0343 - acc: 0.9898\n",
      "Epoch 10/10\n",
      "18000/18000 [==============================] - -34s -1905us/step - loss: 0.0317 - acc: 0.9905\n"
     ]
    },
    {
     "data": {
      "text/plain": [
       "<keras.callbacks.History at 0x165fb4c34e0>"
      ]
     },
     "execution_count": 44,
     "metadata": {},
     "output_type": "execute_result"
    }
   ],
   "source": [
    "model = Sequential([\n",
    "    Dense(32, input_shape=(MAX_LEN * STRIDE,)),\n",
    "    Activation('relu'),\n",
    "    Dense(32),\n",
    "    Activation('relu'),\n",
    "    Dense(MAX_LEN),\n",
    "    Activation('sigmoid'),\n",
    "])\n",
    "\n",
    "model.compile(optimizer='adam', loss='binary_crossentropy', metrics=['accuracy'])\n",
    "\n",
    "model.fit(x_train, y_train, epochs=10)"
   ]
  },
  {
   "cell_type": "code",
   "execution_count": 45,
   "metadata": {},
   "outputs": [
    {
     "name": "stdout",
     "output_type": "stream",
     "text": [
      "2000/2000 [==============================] - 0s 113us/step\n"
     ]
    },
    {
     "data": {
      "text/plain": [
       "[0.032586308062076567, 0.99089999675750728]"
      ]
     },
     "execution_count": 45,
     "metadata": {},
     "output_type": "execute_result"
    }
   ],
   "source": [
    "model.evaluate(x_test, y_test)"
   ]
  },
  {
   "cell_type": "code",
   "execution_count": null,
   "metadata": {
    "collapsed": true
   },
   "outputs": [],
   "source": []
  }
 ],
 "metadata": {
  "kernelspec": {
   "display_name": "Python 3",
   "language": "python",
   "name": "python3"
  },
  "language_info": {
   "codemirror_mode": {
    "name": "ipython",
    "version": 3
   },
   "file_extension": ".py",
   "mimetype": "text/x-python",
   "name": "python",
   "nbconvert_exporter": "python",
   "pygments_lexer": "ipython3",
   "version": "3.6.2"
  }
 },
 "nbformat": 4,
 "nbformat_minor": 2
}
