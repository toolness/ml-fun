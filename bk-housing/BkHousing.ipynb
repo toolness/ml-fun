{
 "cells": [
  {
   "cell_type": "markdown",
   "metadata": {},
   "source": [
    "# Atul's Brooklyn housing price predictions\n",
    "\n",
    "_September 20, 2017_\n",
    "\n",
    "This is just some experimenting I did after taking the second week of Coursera's [Machine Learning](https://www.coursera.org/learn/machine-learning) class, which covers linear regression.\n",
    "\n",
    "The example Andrew Ng uses to motivate linear regression is predicting housing prices in Portland, so I figured I would do the same thing, but with Brooklyn."
   ]
  },
  {
   "cell_type": "code",
   "execution_count": 1,
   "metadata": {},
   "outputs": [],
   "source": [
    "import numpy as np\n",
    "import pandas as pd\n",
    "import matplotlib.pyplot as plt\n",
    "\n",
    "%matplotlib inline"
   ]
  },
  {
   "cell_type": "markdown",
   "metadata": {},
   "source": [
    "I found the [NYC Department of Finance’s Rolling Sales data](http://www1.nyc.gov/site/finance/taxes/property-rolling-sales-data.page), which was in excel format, and converted it to CSV. Here's what it looks like:"
   ]
  },
  {
   "cell_type": "code",
   "execution_count": 2,
   "metadata": {},
   "outputs": [
    {
     "data": {
      "text/html": [
       "<div>\n",
       "<style>\n",
       "    .dataframe thead tr:only-child th {\n",
       "        text-align: right;\n",
       "    }\n",
       "\n",
       "    .dataframe thead th {\n",
       "        text-align: left;\n",
       "    }\n",
       "\n",
       "    .dataframe tbody tr th {\n",
       "        vertical-align: top;\n",
       "    }\n",
       "</style>\n",
       "<table border=\"1\" class=\"dataframe\">\n",
       "  <thead>\n",
       "    <tr style=\"text-align: right;\">\n",
       "      <th></th>\n",
       "      <th>BOROUGH</th>\n",
       "      <th>NEIGHBORHOOD</th>\n",
       "      <th>BUILDING CLASS CATEGORY</th>\n",
       "      <th>TAX CLASS AT PRESENT</th>\n",
       "      <th>BLOCK</th>\n",
       "      <th>LOT</th>\n",
       "      <th>EASE-MENT</th>\n",
       "      <th>BUILDING CLASS AT PRESENT</th>\n",
       "      <th>ADDRESS</th>\n",
       "      <th>APARTMENT NUMBER</th>\n",
       "      <th>...</th>\n",
       "      <th>RESIDENTIAL UNITS</th>\n",
       "      <th>COMMERCIAL UNITS</th>\n",
       "      <th>TOTAL UNITS</th>\n",
       "      <th>LAND SQUARE FEET</th>\n",
       "      <th>GROSS SQUARE FEET</th>\n",
       "      <th>YEAR BUILT</th>\n",
       "      <th>TAX CLASS AT TIME OF SALE</th>\n",
       "      <th>BUILDING CLASS AT TIME OF SALE</th>\n",
       "      <th>SALE PRICE</th>\n",
       "      <th>SALE DATE</th>\n",
       "    </tr>\n",
       "  </thead>\n",
       "  <tbody>\n",
       "    <tr>\n",
       "      <th>0</th>\n",
       "      <td>3</td>\n",
       "      <td>BATH BEACH</td>\n",
       "      <td>01 ONE FAMILY DWELLINGS</td>\n",
       "      <td>1</td>\n",
       "      <td>6360</td>\n",
       "      <td>157</td>\n",
       "      <td></td>\n",
       "      <td>A5</td>\n",
       "      <td>36 BAY 10TH   STREET</td>\n",
       "      <td></td>\n",
       "      <td>...</td>\n",
       "      <td>1</td>\n",
       "      <td>0</td>\n",
       "      <td>1</td>\n",
       "      <td>1,547</td>\n",
       "      <td>1428.0</td>\n",
       "      <td>1930</td>\n",
       "      <td>1</td>\n",
       "      <td>A5</td>\n",
       "      <td>800000.0</td>\n",
       "      <td>2/27/17</td>\n",
       "    </tr>\n",
       "    <tr>\n",
       "      <th>3</th>\n",
       "      <td>3</td>\n",
       "      <td>BATH BEACH</td>\n",
       "      <td>01 ONE FAMILY DWELLINGS</td>\n",
       "      <td>1</td>\n",
       "      <td>6367</td>\n",
       "      <td>42</td>\n",
       "      <td></td>\n",
       "      <td>S1</td>\n",
       "      <td>1730 86TH STREET</td>\n",
       "      <td></td>\n",
       "      <td>...</td>\n",
       "      <td>1</td>\n",
       "      <td>1</td>\n",
       "      <td>2</td>\n",
       "      <td>1,342</td>\n",
       "      <td>1920.0</td>\n",
       "      <td>1926</td>\n",
       "      <td>1</td>\n",
       "      <td>S1</td>\n",
       "      <td>1200000.0</td>\n",
       "      <td>3/31/17</td>\n",
       "    </tr>\n",
       "    <tr>\n",
       "      <th>4</th>\n",
       "      <td>3</td>\n",
       "      <td>BATH BEACH</td>\n",
       "      <td>01 ONE FAMILY DWELLINGS</td>\n",
       "      <td>1</td>\n",
       "      <td>6374</td>\n",
       "      <td>67</td>\n",
       "      <td></td>\n",
       "      <td>S1</td>\n",
       "      <td>8642 20TH AVENUE</td>\n",
       "      <td></td>\n",
       "      <td>...</td>\n",
       "      <td>1</td>\n",
       "      <td>1</td>\n",
       "      <td>2</td>\n",
       "      <td>1,740</td>\n",
       "      <td>3240.0</td>\n",
       "      <td>1925</td>\n",
       "      <td>1</td>\n",
       "      <td>S1</td>\n",
       "      <td>1090000.0</td>\n",
       "      <td>10/24/16</td>\n",
       "    </tr>\n",
       "  </tbody>\n",
       "</table>\n",
       "<p>3 rows × 21 columns</p>\n",
       "</div>"
      ],
      "text/plain": [
       "   BOROUGH NEIGHBORHOOD                      BUILDING CLASS CATEGORY  \\\n",
       "0        3   BATH BEACH  01 ONE FAMILY DWELLINGS                       \n",
       "3        3   BATH BEACH  01 ONE FAMILY DWELLINGS                       \n",
       "4        3   BATH BEACH  01 ONE FAMILY DWELLINGS                       \n",
       "\n",
       "  TAX CLASS AT PRESENT  BLOCK  LOT EASE-MENT BUILDING CLASS AT PRESENT  \\\n",
       "0                    1   6360  157                                  A5   \n",
       "3                    1   6367   42                                  S1   \n",
       "4                    1   6374   67                                  S1   \n",
       "\n",
       "                ADDRESS APARTMENT NUMBER     ...      RESIDENTIAL UNITS  \\\n",
       "0  36 BAY 10TH   STREET                      ...                      1   \n",
       "3      1730 86TH STREET                      ...                      1   \n",
       "4      8642 20TH AVENUE                      ...                      1   \n",
       "\n",
       "   COMMERCIAL UNITS  TOTAL UNITS  LAND SQUARE FEET GROSS SQUARE FEET  \\\n",
       "0                 0            1            1,547             1428.0   \n",
       "3                 1            2            1,342             1920.0   \n",
       "4                 1            2            1,740             3240.0   \n",
       "\n",
       "   YEAR BUILT  TAX CLASS AT TIME OF SALE  BUILDING CLASS AT TIME OF SALE  \\\n",
       "0        1930                          1                              A5   \n",
       "3        1926                          1                              S1   \n",
       "4        1925                          1                              S1   \n",
       "\n",
       "  SALE PRICE   SALE DATE  \n",
       "0   800000.0     2/27/17  \n",
       "3  1200000.0     3/31/17  \n",
       "4  1090000.0    10/24/16  \n",
       "\n",
       "[3 rows x 21 columns]"
      ]
     },
     "execution_count": 2,
     "metadata": {},
     "output_type": "execute_result"
    }
   ],
   "source": [
    "# Column name for square footage.\n",
    "SQFT = 'GROSS SQUARE FEET'\n",
    "\n",
    "# Column name for price.\n",
    "PRICE = 'SALE PRICE'\n",
    "\n",
    "# Maximum square footage that we care about.\n",
    "MAX_SQFT = 4500\n",
    "\n",
    "sa = pd.read_csv('rollingsales_brooklyn.csv')\n",
    "for colname in [SQFT, PRICE]:\n",
    "    sa[colname] = pd.to_numeric(sa[colname].str.replace(',', ''), errors='coerce')\n",
    "    sa = sa[pd.notnull(sa[colname])]\n",
    "sa = sa[sa[SQFT] < MAX_SQFT]\n",
    "\n",
    "sa[:3]"
   ]
  },
  {
   "cell_type": "markdown",
   "metadata": {},
   "source": [
    "I wanted to be able to easily drill down by neighborhood, so here's a list of all the available neighborhoods..."
   ]
  },
  {
   "cell_type": "code",
   "execution_count": 3,
   "metadata": {},
   "outputs": [
    {
     "data": {
      "text/plain": [
       "array(['BATH BEACH', 'BAY RIDGE', 'BEDFORD STUYVESANT', 'BENSONHURST',\n",
       "       'BERGEN BEACH', 'BOERUM HILL', 'BOROUGH PARK', 'BRIGHTON BEACH',\n",
       "       'BROOKLYN HEIGHTS', 'BROWNSVILLE', 'BUSH TERMINAL', 'BUSHWICK',\n",
       "       'CANARSIE', 'CARROLL GARDENS', 'CLINTON HILL', 'COBBLE HILL',\n",
       "       'COBBLE HILL-WEST', 'CONEY ISLAND', 'CROWN HEIGHTS',\n",
       "       'CYPRESS HILLS', 'DOWNTOWN-FULTON FERRY', 'DOWNTOWN-FULTON MALL',\n",
       "       'DOWNTOWN-METROTECH', 'DYKER HEIGHTS', 'EAST NEW YORK',\n",
       "       'FLATBUSH-CENTRAL', 'FLATBUSH-EAST', 'FLATBUSH-LEFFERTS GARDEN',\n",
       "       'FLATBUSH-NORTH', 'FLATLANDS', 'FORT GREENE', 'GERRITSEN BEACH',\n",
       "       'GOWANUS', 'GRAVESEND', 'GREENPOINT', 'KENSINGTON', 'MADISON',\n",
       "       'MANHATTAN BEACH', 'MARINE PARK', 'MIDWOOD', 'MILL BASIN',\n",
       "       'NAVY YARD', 'OCEAN HILL', 'OCEAN PARKWAY-NORTH',\n",
       "       'OCEAN PARKWAY-SOUTH', 'OLD MILL BASIN', 'PARK SLOPE',\n",
       "       'PARK SLOPE SOUTH', 'PROSPECT HEIGHTS', 'RED HOOK', 'SEAGATE',\n",
       "       'SHEEPSHEAD BAY', 'SPRING CREEK', 'SUNSET PARK',\n",
       "       'WILLIAMSBURG-CENTRAL', 'WILLIAMSBURG-EAST', 'WILLIAMSBURG-NORTH',\n",
       "       'WILLIAMSBURG-SOUTH', 'WINDSOR TERRACE', 'WYCKOFF HEIGHTS'], dtype=object)"
      ]
     },
     "execution_count": 3,
     "metadata": {},
     "output_type": "execute_result"
    }
   ],
   "source": [
    "sa['NEIGHBORHOOD'].drop_duplicates().values"
   ]
  },
  {
   "cell_type": "markdown",
   "metadata": {},
   "source": [
    "And here's a function that returns only the dataframe rows that correspond to a given neighborhood..."
   ]
  },
  {
   "cell_type": "code",
   "execution_count": 4,
   "metadata": {},
   "outputs": [],
   "source": [
    "def hood(name):\n",
    "    return sa[sa['NEIGHBORHOOD'] == name]"
   ]
  },
  {
   "cell_type": "markdown",
   "metadata": {},
   "source": [
    "Now let's do some plotting!"
   ]
  },
  {
   "cell_type": "code",
   "execution_count": 5,
   "metadata": {},
   "outputs": [
    {
     "data": {
      "text/plain": [
       "<matplotlib.axes._subplots.AxesSubplot at 0x25f18ff19e8>"
      ]
     },
     "execution_count": 5,
     "metadata": {},
     "output_type": "execute_result"
    },
    {
     "data": {
      "image/png": "[encoded data removed]",
      "text/plain": [
       "<matplotlib.figure.Figure at 0x25f0eb65128>"
      ]
     },
     "metadata": {},
     "output_type": "display_data"
    }
   ],
   "source": [
    "hood('GOWANUS').plot(x=SQFT, y=PRICE, kind='scatter')"
   ]
  },
  {
   "cell_type": "markdown",
   "metadata": {},
   "source": [
    "Neato. Now let's create an _unvectorized_ cost function, given a dataframe and linear regression parameters."
   ]
  },
  {
   "cell_type": "code",
   "execution_count": 6,
   "metadata": {},
   "outputs": [
    {
     "data": {
      "text/plain": [
       "1880960580557.3147"
      ]
     },
     "execution_count": 6,
     "metadata": {},
     "output_type": "execute_result"
    }
   ],
   "source": [
    "def unvectorized_cost(df, theta_0, theta_1):\n",
    "    X = df[SQFT].values\n",
    "    Y = df[PRICE].values\n",
    "    m = len(X)\n",
    "    total = 0\n",
    "    for i in range(m):\n",
    "        total += np.power((theta_0 + theta_1 * X[i]) - Y[i], 2)\n",
    "    return total / m / 2\n",
    "\n",
    "unvectorized_cost(hood('GOWANUS'), 1, 2)"
   ]
  },
  {
   "cell_type": "markdown",
   "metadata": {},
   "source": [
    "Now let's make a vectorized version of the same function."
   ]
  },
  {
   "cell_type": "code",
   "execution_count": 7,
   "metadata": {},
   "outputs": [],
   "source": [
    "def cost(df, theta_0, theta_1):\n",
    "    X = df[SQFT].values\n",
    "    Y = df[PRICE].values\n",
    "    m = len(X)\n",
    "    predicted_Y = theta_0 + theta_1 * X\n",
    "    total = np.sum(np.power(predicted_Y - Y, 2))\n",
    "    return total / m / 2\n",
    "\n",
    "# Make sure it produces the same output as our unvectorized version.\n",
    "assert unvectorized_cost(hood('GOWANUS'), 1, 2) == cost(hood('GOWANUS'), 1, 2)"
   ]
  },
  {
   "cell_type": "markdown",
   "metadata": {},
   "source": [
    "Now let's create an unvectorized gradient-following function. Obviously using an analytical solution would be more efficient here, given our features, but I want to make sure I understand the general concept of gradient descent."
   ]
  },
  {
   "cell_type": "code",
   "execution_count": 8,
   "metadata": {},
   "outputs": [],
   "source": [
    "def unvectorized_follow_gradient(df, theta_0, theta_1, learning_rate):\n",
    "    X = df[SQFT].values\n",
    "    Y = df[PRICE].values\n",
    "    m = len(X)\n",
    "    total_theta_0 = 0\n",
    "    total_theta_1 = 0\n",
    "    for i in range(m):\n",
    "        predicted_y = theta_0 + theta_1 * X[i]\n",
    "        total_theta_0 += (predicted_y - Y[i]) * 1\n",
    "        total_theta_1 += (predicted_y - Y[i]) * X[i]\n",
    "    d_theta_0 = total_theta_0 / m\n",
    "    d_theta_1 = total_theta_1 / m\n",
    "    return (theta_0 - learning_rate * d_theta_0,\n",
    "            theta_1 - learning_rate * d_theta_1)\n"
   ]
  },
  {
   "cell_type": "markdown",
   "metadata": {},
   "source": [
    "Cool, now let's use the function to fit a line to our data!"
   ]
  },
  {
   "cell_type": "code",
   "execution_count": 9,
   "metadata": {},
   "outputs": [
    {
     "name": "stdout",
     "output_type": "stream",
     "text": [
      "cost at iteration 0 when theta_0=0, theta_1=0 is 1889128504421.8518\n",
      "cost at iteration 100 when theta_0=0.1242402438821919, theta_1=301.55127916828667 is 950955905027.8193\n",
      "cost at iteration 200 when theta_0=0.19664449825627317, theta_1=458.80443353537134 is 695827305949.8993\n",
      "cost at iteration 300 when theta_0=0.2420172869986939, theta_1=540.8089079712018 is 626447105154.222\n",
      "cost at iteration 400 when theta_0=0.27329368934626047, theta_1=583.5726518764226 is 607579707997.0375\n",
      "cost at iteration 500 when theta_0=0.2972190988286313, theta_1=605.8731141136767 is 602448867144.0631\n",
      "cost at iteration 600 when theta_0=0.31731110764891257, theta_1=617.5023709232973 is 601053573825.7135\n",
      "cost at iteration 700 when theta_0=0.3354040720760091, theta_1=623.5668005890388 is 600674133030.6895\n",
      "cost at iteration 800 when theta_0=0.3524545734095658, theta_1=626.7292805780296 is 600570945272.0901\n",
      "cost at iteration 900 when theta_0=0.3689614502876063, theta_1=628.3784499629963 is 600542882335.6292\n"
     ]
    }
   ],
   "source": [
    "theta_0 = 0\n",
    "theta_1 = 0\n",
    "df = hood('GOWANUS')\n",
    "\n",
    "for i in range(1000):\n",
    "    if i % 100 == 0:\n",
    "        print(f\"cost at iteration {i} when theta_0={theta_0}, theta_1={theta_1} is {cost(df, theta_0, theta_1)}\")\n",
    "    theta_0, theta_1 = unvectorized_follow_gradient(df, theta_0, theta_1, learning_rate=0.000000001)\n"
   ]
  },
  {
   "cell_type": "code",
   "execution_count": 10,
   "metadata": {},
   "outputs": [
    {
     "data": {
      "text/plain": [
       "[<matplotlib.lines.Line2D at 0x25f18fedba8>]"
      ]
     },
     "execution_count": 10,
     "metadata": {},
     "output_type": "execute_result"
    },
    {
     "data": {
      "image/png": "[encoded data removed]",
      "text/plain": [
       "<matplotlib.figure.Figure at 0x25f101466d8>"
      ]
     },
     "metadata": {},
     "output_type": "display_data"
    }
   ],
   "source": [
    "square_footage = np.arange(0, MAX_SQFT)\n",
    "predicted_prices = theta_0 + theta_1 * square_footage\n",
    "\n",
    "plt.plot(df[SQFT], df[PRICE], '.')\n",
    "plt.plot(square_footage, predicted_prices, '-')"
   ]
  },
  {
   "cell_type": "code",
   "execution_count": null,
   "metadata": {},
   "outputs": [],
   "source": []
  }
 ],
 "metadata": {
  "kernelspec": {
   "display_name": "Python 3",
   "language": "python",
   "name": "python3"
  },
  "language_info": {
   "codemirror_mode": {
    "name": "ipython",
    "version": 3
   },
   "file_extension": ".py",
   "mimetype": "text/x-python",
   "name": "python",
   "nbconvert_exporter": "python",
   "pygments_lexer": "ipython3",
   "version": "3.6.1"
  }
 },
 "nbformat": 4,
 "nbformat_minor": 2
}
